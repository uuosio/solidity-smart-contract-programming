{
 "cells": [
  {
   "cell_type": "code",
   "execution_count": 7,
   "metadata": {},
   "outputs": [
    {
     "name": "stdout",
     "output_type": "stream",
     "text": [
      "[{'constant': False, 'inputs': [], 'name': 'getValue', 'outputs': [{'name': '', 'type': 'uint256'}], 'payable': True, 'stateMutability': 'payable', 'type': 'function'}, {'constant': False, 'inputs': [{'name': 'v', 'type': 'uint256'}], 'name': 'setValue', 'outputs': [], 'payable': True, 'stateMutability': 'payable', 'type': 'function'}, {'inputs': [], 'payable': False, 'stateMutability': 'nonpayable', 'type': 'constructor'}, {'anonymous': False, 'inputs': [{'indexed': False, 'name': 'value', 'type': 'uint256'}], 'name': 'onSetValue', 'type': 'event'}]\n",
      "608060405234801561001057600080fd5b50600160008190555061014f806100286000396000f30060806040526004361061004c576000357c0100000000000000000000000000000000000000000000000000000000900463ffffffff1680632096525514610051578063552410771461006f575b600080fd5b61005961008f565b6040518082815260200191505060405180910390f35b61008d600480360381019080803590602001909291905050506100e2565b005b60003373ffffffffffffffffffffffffffffffffffffffff166108fc6103e89081150290604051600060405180830381858888f193505050501580156100d9573d6000803e3d6000fd5b50600054905090565b806000819055507ff48a1dc57eefa3de4406e65fc0fc377b25d100bd06429201a01a9e8e0e1d0773816040518082815260200191505060405180910390a1505600a165627a7a723058200ef49924529c4296a4062b5ebe0359ff0b7d083de172b6cc5ec8d0080f89977e0029\n"
     ]
    }
   ],
   "source": [
    "import web3\n",
    "from solc import compile_source, compile_files\n",
    "\n",
    "greeter = '''\n",
    "pragma solidity ^0.4.8;\n",
    "contract Greeter {\n",
    "    uint value;\n",
    "    event onSetValue(uint value);\n",
    "    function Greeter() {\n",
    "        value = 1;\n",
    "    }\n",
    "\n",
    "    function getValue() payable public returns (uint){\n",
    "        msg.sender.transfer(1000);\n",
    "        return value;\n",
    "    }\n",
    "\n",
    "    function setValue(uint v) payable public {\n",
    "        value = v;\n",
    "        onSetValue(v);\n",
    "    }\n",
    "}\n",
    "'''\n",
    "\n",
    "def compile(contract_source_code, main_class):\n",
    "    compiled_sol = compile_source(contract_source_code) # Compiled source code\n",
    "    contract_interface = compiled_sol[main_class]\n",
    "\n",
    "    return contract_interface\n",
    "\n",
    "\n",
    "main_class = '<stdin>:Greeter'\n",
    "contract_source_code = greeter\n",
    "contract_interface = compile(contract_source_code, main_class)\n",
    "print(contract_interface['abi'])\n",
    "print(contract_interface['bin'])\n"
   ]
  },
  {
   "cell_type": "code",
   "execution_count": 23,
   "metadata": {},
   "outputs": [
    {
     "name": "stdout",
     "output_type": "stream",
     "text": [
      "b\"\\xf9\\x01}\\x80\\x17\\x83\\x1e\\x84\\x80\\x80\\x80\\xb9\\x01/`\\x80`@R4\\x80\\x15a\\x00\\x10W`\\x00\\x80\\xfd[Pa\\x01\\x0f\\x80a\\x00 `\\x009`\\x00\\xf3\\x00`\\x80`@R`\\x046\\x10`IW`\\x005|\\x01\\x00\\x00\\x00\\x00\\x00\\x00\\x00\\x00\\x00\\x00\\x00\\x00\\x00\\x00\\x00\\x00\\x00\\x00\\x00\\x00\\x00\\x00\\x00\\x00\\x00\\x00\\x00\\x00\\x90\\x04c\\xff\\xff\\xff\\xff\\x16\\x80c \\x96RU\\x14`NW\\x80cU$\\x10w\\x14`jW[`\\x00\\x80\\xfd[`T`\\x88V[`@Q\\x80\\x82\\x81R` \\x01\\x91PP`@Q\\x80\\x91\\x03\\x90\\xf3[`\\x86`\\x04\\x806\\x03\\x81\\x01\\x90\\x80\\x805\\x90` \\x01\\x90\\x92\\x91\\x90PPP`\\xd9V[\\x00[`\\x003s\\xff\\xff\\xff\\xff\\xff\\xff\\xff\\xff\\xff\\xff\\xff\\xff\\xff\\xff\\xff\\xff\\xff\\xff\\xff\\xff\\x16a\\x08\\xfca\\x03\\xe8\\x90\\x81\\x15\\x02\\x90`@Q`\\x00`@Q\\x80\\x83\\x03\\x81\\x85\\x88\\x88\\xf1\\x93PPPP\\x15\\x80\\x15`\\xd1W=`\\x00\\x80>=`\\x00\\xfd[P`\\x00\\x90P\\x90V[\\x80`\\x00\\x81\\x90UPPV\\x00\\xa1ebzzr0X ow/\\x8f[\\xb9\\x9f\\xa7\\x0f\\x0fS\\xe0\\x90\\xb6]\\xeb'F\\xcf\\xa4\\xa4\\xc0m\\n\\xf4`\\x00\\xd3\\xaf[/\\x0e\\x00)\\x1b\\xa0;\\xf5\\xfa*\\x82X\\xe2\\xfc\\x9d\\x84\\x1e\\x04\\xd2D\\x8d\\xecZ\\xfe\\xa0f\\xf7\\xbd\\x99\\xa4c\\xe4\\xc1\\xa6\\x88;\\xe9R\\xa0K\\xacv\\xc0\\x04\\x0f\\xe0t\\xdey\\xaa\\x81\\xcc,\\x83\\xd8\\xbb\\xac@\\xb8\\x13U\\xce\\xaf\\xb8\\xd0G\\t\\xdf\\x93\\xec^\"\n"
     ]
    }
   ],
   "source": [
    "import web3\n",
    "transaction = {\n",
    "     'from': '0x2c7536E3605D9C16a7a3D7b1898e529396a65c23',\n",
    "     'data': contract_interface['bin'],\n",
    "     'gas': 2000000,\n",
    "     'gasPrice': 234567897654321,\n",
    "     'nonce': 0,\n",
    "}\n",
    "transaction = {\n",
    "     'from': '0x2c7536E3605D9C16a7a3D7b1898e529396a65c23',\n",
    "     'data': contract_interface['bin'],\n",
    "     'gas': 2000000,\n",
    "     'gasPrice': 23,\n",
    "     'nonce': 0,\n",
    "}\n",
    "\n",
    "key = '0x4c0883a69102937d6231471b5dbb6204fe5129617082792ae468d01a3f362318'\n",
    "signed = web3.eth.Account.signTransaction(transaction, key)\n",
    "print(signed.rawTransaction)"
   ]
  },
  {
   "cell_type": "code",
   "execution_count": 21,
   "metadata": {},
   "outputs": [
    {
     "data": {
      "text/plain": [
       "469135795308642000000"
      ]
     },
     "execution_count": 21,
     "metadata": {},
     "output_type": "execute_result"
    }
   ],
   "source": [
    "234567897654321*2000000"
   ]
  },
  {
   "cell_type": "code",
   "execution_count": 22,
   "metadata": {},
   "outputs": [
    {
     "data": {
      "text/plain": [
       "21"
      ]
     },
     "execution_count": 22,
     "metadata": {},
     "output_type": "execute_result"
    }
   ],
   "source": [
    "len('469135795308642000000')"
   ]
  },
  {
   "cell_type": "code",
   "execution_count": 3,
   "metadata": {},
   "outputs": [
    {
     "name": "stdout",
     "output_type": "stream",
     "text": [
      "\n",
      "\n",
      "done!\n"
     ]
    }
   ],
   "source": [
    "from init import *\n",
    "#eosapi.set_nodes(['https://nodes.uuos.network:8443'])\n",
    "eosapi.set_nodes(['http://127.0.0.1:8888'])\n",
    "config.main_token='UUOS'\n",
    "wallet.import_key('test', '5KH8vwQkP4QoTwgBtCV5ZYhKmv8mx56WeNrw9AZuhNRXTrPzgYc')\n",
    "priv_keys = [\n",
    "                '5KQwrPbwdL6PhXujxW37FSSQZ1JiwsST4cqQzDeyXtP79zkvFD3',\n",
    "                '5JEcwbckBCdmji5j8ZoMHLEUS8TqQiqBG1DRx1X9DN124GUok9s',\n",
    "                '5JbDP55GXN7MLcNYKCnJtfKi9aD2HvHAdY7g8m67zFTAFkY1uBB',\n",
    "                '5K463ynhZoCDDa4RDcr63cUwWLTnKqmdcoTKTHBjqoKfv4u5V7p'\n",
    "            ]\n",
    "for priv_key in priv_keys:\n",
    "    wallet.import_key('test', priv_key)\n",
    "\n",
    "db.reset()\n",
    "code = r'''\n",
    "#include <eosio/print.hpp>\n",
    "#include <eosio/name.hpp>\n",
    "#include <eosio/action.hpp>\n",
    "\n",
    "using namespace eosio;\n",
    "\n",
    "__attribute__((eosio_wasm_import))\n",
    "extern \"C\" int evm_apply(uint64_t receiver, uint64_t code, uint64_t action);\n",
    "\n",
    "extern \"C\" {\n",
    "    void apply( uint64_t receiver, uint64_t code, uint64_t action ) {\n",
    "        if (\"sayhello\"_n.value == action) {\n",
    "            eosio::print(\"hello,worldd\\n\");\n",
    "        }\n",
    "        evm_apply(receiver, code, action);\n",
    "    }\n",
    "}\n",
    "'''\n",
    "\n",
    "publish_cpp_contract('helloworld11', code)\n",
    "print('done!')\n"
   ]
  },
  {
   "cell_type": "code",
   "execution_count": 89,
   "metadata": {},
   "outputs": [
    {
     "name": "stdout",
     "output_type": "stream",
     "text": [
      "hello,worldd\n",
      "\n",
      "624\n"
     ]
    }
   ],
   "source": [
    "name = 'helloworld11'\n",
    "eth_trx = b\"\\xf9\\x01}\\x80\\x17\\x83\\x1e\\x84\\x80\\x80\\x80\\xb9\\x01/`\\x80`@R4\\x80\\x15a\\x00\\x10W`\\x00\\x80\\xfd[Pa\\x01\\x0f\\x80a\\x00 `\\x009`\\x00\\xf3\\x00`\\x80`@R`\\x046\\x10`IW`\\x005|\\x01\\x00\\x00\\x00\\x00\\x00\\x00\\x00\\x00\\x00\\x00\\x00\\x00\\x00\\x00\\x00\\x00\\x00\\x00\\x00\\x00\\x00\\x00\\x00\\x00\\x00\\x00\\x00\\x00\\x90\\x04c\\xff\\xff\\xff\\xff\\x16\\x80c \\x96RU\\x14`NW\\x80cU$\\x10w\\x14`jW[`\\x00\\x80\\xfd[`T`\\x88V[`@Q\\x80\\x82\\x81R` \\x01\\x91PP`@Q\\x80\\x91\\x03\\x90\\xf3[`\\x86`\\x04\\x806\\x03\\x81\\x01\\x90\\x80\\x805\\x90` \\x01\\x90\\x92\\x91\\x90PPP`\\xd9V[\\x00[`\\x003s\\xff\\xff\\xff\\xff\\xff\\xff\\xff\\xff\\xff\\xff\\xff\\xff\\xff\\xff\\xff\\xff\\xff\\xff\\xff\\xff\\x16a\\x08\\xfca\\x03\\xe8\\x90\\x81\\x15\\x02\\x90`@Q`\\x00`@Q\\x80\\x83\\x03\\x81\\x85\\x88\\x88\\xf1\\x93PPPP\\x15\\x80\\x15`\\xd1W=`\\x00\\x80>=`\\x00\\xfd[P`\\x00\\x90P\\x90V[\\x80`\\x00\\x81\\x90UPPV\\x00\\xa1ebzzr0X ow/\\x8f[\\xb9\\x9f\\xa7\\x0f\\x0fS\\xe0\\x90\\xb6]\\xeb'F\\xcf\\xa4\\xa4\\xc0m\\n\\xf4`\\x00\\xd3\\xaf[/\\x0e\\x00)\\x1b\\xa0;\\xf5\\xfa*\\x82X\\xe2\\xfc\\x9d\\x84\\x1e\\x04\\xd2D\\x8d\\xecZ\\xfe\\xa0f\\xf7\\xbd\\x99\\xa4c\\xe4\\xc1\\xa6\\x88;\\xe9R\\xa0K\\xacv\\xc0\\x04\\x0f\\xe0t\\xdey\\xaa\\x81\\xcc,\\x83\\xd8\\xbb\\xac@\\xb8\\x13U\\xce\\xaf\\xb8\\xd0G\\t\\xdf\\x93\\xec^\"\n",
    "\n",
    "\n",
    "try:\n",
    "    r = eosapi.push_action(name, 'sayhello', eth_trx, {name:'active'})\n",
    "    print(r['processed']['action_traces'][0]['console'])\n",
    "    print(r['processed']['elapsed'])\n",
    "except Exception as e:\n",
    "    print(e)"
   ]
  },
  {
   "cell_type": "code",
   "execution_count": 6,
   "metadata": {},
   "outputs": [
    {
     "name": "stdout",
     "output_type": "stream",
     "text": [
      "hello,worldd\n",
      "\n",
      "12801\n"
     ]
    }
   ],
   "source": [
    "import web3\n",
    "from pyeoskit.exceptions import HttpAPIError\n",
    "\n",
    "transaction = {\n",
    "     'from': '0x2c7536E3605D9C16a7a3D7b1898e529396a65c23',\n",
    "     'data': contract_interface['bin'],\n",
    "     'gas': 2000000,\n",
    "     'gasPrice': 23,\n",
    "     'nonce': 0,\n",
    "}\n",
    "\n",
    "key = '0x4c0883a69102937d6231471b5dbb6204fe5129617082792ae468d01a3f362318'\n",
    "signed = web3.eth.Account.signTransaction(transaction, key)\n",
    "#print(signed.rawTransaction)\n",
    "\n",
    "name = 'helloworld11'\n",
    "eth_trx = signed.rawTransaction\n",
    "\n",
    "try:\n",
    "    r = eosapi.push_action(name, 'sayhello', eth_trx, {name:'active'})\n",
    "    print(r['processed']['action_traces'][0]['console'])\n",
    "    print(r['processed']['elapsed'])\n",
    "except HttpAPIError as e:\n",
    "    print(e.status_code)\n",
    "#    print(e.response)\n",
    "    import json\n",
    "    response = json.loads(e.response)\n",
    "    print(response[\"error\"]['code'])\n",
    "    print(response[\"error\"]['name'])\n",
    "    print(response[\"error\"]['what'])\n",
    "    print(response[\"error\"]['details'])\n"
   ]
  }
 ],
 "metadata": {
  "kernelspec": {
   "display_name": "Python 3",
   "language": "python",
   "name": "python3"
  },
  "language_info": {
   "codemirror_mode": {
    "name": "ipython",
    "version": 3
   },
   "file_extension": ".py",
   "mimetype": "text/x-python",
   "name": "python",
   "nbconvert_exporter": "python",
   "pygments_lexer": "ipython3",
   "version": "3.7.3"
  }
 },
 "nbformat": 4,
 "nbformat_minor": 2
}
