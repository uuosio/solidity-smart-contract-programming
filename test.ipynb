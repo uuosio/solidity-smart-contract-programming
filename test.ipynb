{
 "cells": [
  {
   "cell_type": "code",
   "execution_count": 1,
   "metadata": {},
   "outputs": [
    {
     "name": "stdout",
     "output_type": "stream",
     "text": [
      "hello,world\n"
     ]
    }
   ],
   "source": [
    "print('hello,world')"
   ]
  },
  {
   "cell_type": "code",
   "execution_count": 3,
   "metadata": {},
   "outputs": [
    {
     "name": "stdout",
     "output_type": "stream",
     "text": [
      "[{'constant': False, 'inputs': [], 'name': 'getValue', 'outputs': [{'name': '', 'type': 'uint256'}], 'payable': True, 'stateMutability': 'payable', 'type': 'function'}, {'constant': False, 'inputs': [{'name': 'v', 'type': 'uint256'}], 'name': 'setValue', 'outputs': [], 'payable': True, 'stateMutability': 'payable', 'type': 'function'}, {'inputs': [], 'payable': False, 'stateMutability': 'nonpayable', 'type': 'constructor'}]\n",
      "608060405234801561001057600080fd5b5061010f806100206000396000f3006080604052600436106049576000357c0100000000000000000000000000000000000000000000000000000000900463ffffffff1680632096525514604e5780635524107714606a575b600080fd5b60546088565b6040518082815260200191505060405180910390f35b60866004803603810190808035906020019092919050505060d9565b005b60003373ffffffffffffffffffffffffffffffffffffffff166108fc6103e89081150290604051600060405180830381858888f1935050505015801560d1573d6000803e3d6000fd5b506000905090565b80600081905550505600a165627a7a723058206f772f8f5bb99fa70f0f53e090b65deb2746cfa4a4c06d0af46000d3af5b2f0e0029\n"
     ]
    }
   ],
   "source": [
    "from solc import compile_source, compile_files\n",
    "\n",
    "greeter = '''\n",
    "pragma solidity ^0.4.8;\n",
    "contract Greeter {\n",
    "    uint myaddress;\n",
    "    function Greeter() {\n",
    "    }\n",
    "\n",
    "    function getValue() payable public returns (uint){\n",
    "        msg.sender.transfer(1000);\n",
    "        return 0;\n",
    "    }\n",
    "\n",
    "    function setValue(uint v) payable public {\n",
    "        myaddress = v;\n",
    "    }\n",
    "}\n",
    "'''\n",
    "\n",
    "def compile(contract_source_code, main_class):\n",
    "    compiled_sol = compile_source(contract_source_code) # Compiled source code\n",
    "    contract_interface = compiled_sol[main_class]\n",
    "\n",
    "    return contract_interface\n",
    "\n",
    "\n",
    "main_class = '<stdin>:Greeter'\n",
    "contract_source_code = greeter\n",
    "contract_interface = compile(contract_source_code, main_class)\n",
    "print(contract_interface['abi'])\n",
    "print(contract_interface['bin'])\n"
   ]
  },
  {
   "cell_type": "code",
   "execution_count": 5,
   "metadata": {},
   "outputs": [
    {
     "name": "stdout",
     "output_type": "stream",
     "text": [
      "b\"\\xf9\\x01\\x83\\x80\\x86\\xd5V\\x987$1\\x83\\x1e\\x84\\x80\\x80\\x80\\xb9\\x01/`\\x80`@R4\\x80\\x15a\\x00\\x10W`\\x00\\x80\\xfd[Pa\\x01\\x0f\\x80a\\x00 `\\x009`\\x00\\xf3\\x00`\\x80`@R`\\x046\\x10`IW`\\x005|\\x01\\x00\\x00\\x00\\x00\\x00\\x00\\x00\\x00\\x00\\x00\\x00\\x00\\x00\\x00\\x00\\x00\\x00\\x00\\x00\\x00\\x00\\x00\\x00\\x00\\x00\\x00\\x00\\x00\\x90\\x04c\\xff\\xff\\xff\\xff\\x16\\x80c \\x96RU\\x14`NW\\x80cU$\\x10w\\x14`jW[`\\x00\\x80\\xfd[`T`\\x88V[`@Q\\x80\\x82\\x81R` \\x01\\x91PP`@Q\\x80\\x91\\x03\\x90\\xf3[`\\x86`\\x04\\x806\\x03\\x81\\x01\\x90\\x80\\x805\\x90` \\x01\\x90\\x92\\x91\\x90PPP`\\xd9V[\\x00[`\\x003s\\xff\\xff\\xff\\xff\\xff\\xff\\xff\\xff\\xff\\xff\\xff\\xff\\xff\\xff\\xff\\xff\\xff\\xff\\xff\\xff\\x16a\\x08\\xfca\\x03\\xe8\\x90\\x81\\x15\\x02\\x90`@Q`\\x00`@Q\\x80\\x83\\x03\\x81\\x85\\x88\\x88\\xf1\\x93PPPP\\x15\\x80\\x15`\\xd1W=`\\x00\\x80>=`\\x00\\xfd[P`\\x00\\x90P\\x90V[\\x80`\\x00\\x81\\x90UPPV\\x00\\xa1ebzzr0X ow/\\x8f[\\xb9\\x9f\\xa7\\x0f\\x0fS\\xe0\\x90\\xb6]\\xeb'F\\xcf\\xa4\\xa4\\xc0m\\n\\xf4`\\x00\\xd3\\xaf[/\\x0e\\x00)\\x1c\\xa0\\x8f\\x12\\xa9J\\xaf\\x8aZ6]\\x06\\xd3K\\xfcJ^k\\x16\\xf7\\x05+\\x9a}\\x93\\xe5\\xdep\\xd5\\x9as\\x1fY\\xc7\\xa0X\\xffg\\x1f\\xf8\\xc9\\x98\\x9cfv\\xfcN\\xde{u\\xc4\\xb1x\\x1e&\\xe4+z\\xf7\\x02\\xba\\xc6\\xd9\\xf9!\\x8fK\"\n"
     ]
    }
   ],
   "source": [
    "import web3\n",
    "transaction = {\n",
    "     'from': '0x2c7536E3605D9C16a7a3D7b1898e529396a65c23',\n",
    "     'data': contract_interface['bin'],\n",
    "     'gas': 2000000,\n",
    "     'gasPrice': 234567897654321,\n",
    "     'nonce': 0,\n",
    "}\n",
    "key = '0x4c0883a69102937d6231471b5dbb6204fe5129617082792ae468d01a3f362318'\n",
    "signed = web3.eth.Account.signTransaction(transaction, key)\n",
    "print(signed.rawTransaction)"
   ]
  }
 ],
 "metadata": {
  "kernelspec": {
   "display_name": "Python 3",
   "language": "python",
   "name": "python3"
  },
  "language_info": {
   "codemirror_mode": {
    "name": "ipython",
    "version": 3
   },
   "file_extension": ".py",
   "mimetype": "text/x-python",
   "name": "python",
   "nbconvert_exporter": "python",
   "pygments_lexer": "ipython3",
   "version": "3.7.3"
  }
 },
 "nbformat": 4,
 "nbformat_minor": 2
}
