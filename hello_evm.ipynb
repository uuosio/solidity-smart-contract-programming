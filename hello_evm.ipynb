{
 "cells": [
  {
   "cell_type": "code",
   "execution_count": 7,
   "metadata": {},
   "outputs": [
    {
     "name": "stdout",
     "output_type": "stream",
     "text": [
      "done!\n"
     ]
    }
   ],
   "source": [
    "from init import *\n",
    "#eosapi.set_nodes(['https://nodes.uuos.network:8443'])\n",
    "eosapi.set_nodes(['http://127.0.0.1:8888'])\n",
    "config.main_token='UUOS'\n",
    "wallet.import_key('test', '5KH8vwQkP4QoTwgBtCV5ZYhKmv8mx56WeNrw9AZuhNRXTrPzgYc')\n",
    "for priv_key in priv_keys:\n",
    "    wallet.import_key('test', priv_key)\n",
    "\n",
    "db.reset()\n",
    "print('done!')"
   ]
  },
  {
   "cell_type": "code",
   "execution_count": 239,
   "metadata": {},
   "outputs": [
    {
     "name": "stdout",
     "output_type": "stream",
     "text": [
      "done!\n"
     ]
    }
   ],
   "source": [
    "code = r'''\n",
    "#include <eosio/print.hpp>\n",
    "#include <eosio/name.hpp>\n",
    "#include <eosio/action.hpp>\n",
    "#include <eosio/multi_index.hpp>\n",
    "#include <eosio/singleton.hpp>\n",
    "#include <eosio/fixed_bytes.hpp>\n",
    "#include \"eth_account.hpp\"\n",
    "\n",
    "using namespace eosio;\n",
    "using namespace std;\n",
    "\n",
    "__attribute__((eosio_wasm_import))\n",
    "extern \"C\" int evm_execute(const unsigned char* code, size_t size);\n",
    "\n",
    "template<typename T>\n",
    "T unpack_args() {\n",
    "    size_t raw_args_size = action_data_size();\n",
    "    check(raw_args_size > 0, \"bad args\");\n",
    "    vector<char> raw_args(raw_args_size);\n",
    "    read_action_data(raw_args.data(), raw_args_size);\n",
    "    T rec = eosio::unpack<T>(raw_args);\n",
    "    return rec;\n",
    "}\n",
    "   \n",
    "extern \"C\" {\n",
    "    void apply( uint64_t receiver, uint64_t code, uint64_t action ) {\n",
    "        if (action == \"active\"_n.value) {\n",
    "            eth_address address;\n",
    "            int size = read_action_data(address.data(), address.size());\n",
    "            eosio::printhex(address.data(), address.size());\n",
    "            check(size == 20, \"bad address\");\n",
    "            bool ret = eth_account_create(address);\n",
    "            eosio::print(ret);\n",
    "        } else if (action == \"exec\"_n.value) {\n",
    "            int raw_args_size = action_data_size();\n",
    "            vector<unsigned char> raw_args(raw_args_size);\n",
    "            read_action_data(raw_args.data(), raw_args_size);\n",
    "            evm_execute(raw_args.data(), raw_args.size());\n",
    "        }\n",
    "    }\n",
    "}\n",
    "    \n",
    "#include \"eth_account.cpp\"\n",
    "\n",
    "'''\n",
    "\n",
    "abi = '''\n",
    "{\n",
    "   \"version\": \"eosio::abi/1.0\",\n",
    "   \"types\": [],\n",
    "  \"structs\": [{\n",
    "      \"name\": \"active\",\n",
    "      \"base\": \"\",\n",
    "      \"fields\": [\n",
    "        {\"name\":\"address\", \"type\":\"bytes\"},\n",
    "       ]\n",
    "    }\n",
    "  ],\n",
    "  \"actions\": [{\n",
    "      \"name\": \"active\",\n",
    "      \"type\": \"active\",\n",
    "      \"ricardian_contract\": \"\"\n",
    "    },{\n",
    "      \"name\": \"exec\",\n",
    "      \"type\": \"bytes\",\n",
    "      \"ricardian_contract\": \"\"\n",
    "    }\n",
    "  ],\n",
    "  \"tables\": [\n",
    "  ]\n",
    "}\n",
    "'''\n",
    "\n",
    "publish_cpp_contract('helloworld11', code, abi, includes=['contracts'])\n",
    "print('done!')"
   ]
  },
  {
   "cell_type": "code",
   "execution_count": 240,
   "metadata": {},
   "outputs": [
    {
     "name": "stdout",
     "output_type": "stream",
     "text": [
      "2c7536e3605d9c16a7a3d7b1898e529396a65c23false\n",
      "201\n"
     ]
    }
   ],
   "source": [
    "name = 'helloworld11'\n",
    "\n",
    "address = b'\\x11\\x22\\x33\\x44\\x55\\x66\\x77\\x88\\x99\\x00\\x11\\x22\\x33\\x44\\x55\\x66\\x77\\x88\\x99\\x00'\n",
    "#args = {'address':'2c7536E3605D9C16a7a3D7b1898e529396a65c23'}\n",
    "#args = b'\\x11\\x22\\x33\\x44\\x55\\x66\\x77\\x88\\x99\\x00\\x11\\x22\\x33\\x44\\x55\\x66\\x77\\x88\\x99\\x00'\n",
    "#args = {'address':address.hex()}\n",
    "args = bytes.fromhex('2c7536E3605D9C16a7a3D7b1898e529396a65c23')\n",
    "try:\n",
    "    r = eosapi.push_action(name, 'active', args, {name:'active'})\n",
    "    print(r['processed']['action_traces'][0]['console'])\n",
    "    print(r['processed']['elapsed'])\n",
    "except Exception as e:\n",
    "    print(e)\n"
   ]
  },
  {
   "cell_type": "code",
   "execution_count": 265,
   "metadata": {
    "scrolled": true
   },
   "outputs": [
    {
     "name": "stdout",
     "output_type": "stream",
     "text": [
      "{'constant': False, 'inputs': [], 'name': 'getValue', 'outputs': [{'name': '', 'type': 'string'}], 'payable': True, 'stateMutability': 'payable', 'type': 'function'}\n",
      "{'constant': False, 'inputs': [{'name': 'v', 'type': 'uint256'}], 'name': 'setValue', 'outputs': [], 'payable': True, 'stateMutability': 'payable', 'type': 'function'}\n",
      "{'constant': False, 'inputs': [], 'name': 'getValue2', 'outputs': [{'name': '', 'type': 'uint256'}], 'payable': True, 'stateMutability': 'payable', 'type': 'function'}\n",
      "{'inputs': [], 'payable': False, 'stateMutability': 'nonpayable', 'type': 'constructor'}\n",
      "{'anonymous': False, 'inputs': [{'indexed': False, 'name': 'value', 'type': 'uint256'}], 'name': 'onSetValue', 'type': 'event'}\n",
      "{'anonymous': False, 'inputs': [{'indexed': False, 'name': 'value', 'type': 'uint256'}], 'name': 'onGetValue', 'type': 'event'}\n",
      "851\n",
      "{\"newAddress\":\"0de2540194e7673906da694620d3bb046ea0db64\", \"output\":\"608060405260043610610057576000357c0100000000000000000000000000000000000000000000000000000000900463ffffffff168063209652551461005c57806355241077146100df578063c515205d146100ff575b600080fd5b61006461011d565b6040518080602001828103825283818151815260200191508051906020019080838360005b838110156100a4578082015181840152602081019050610089565b50505050905090810190601f1680156100d15780820380516001836020036101000a031916815260200191505b509250505060405180910390f35b6100fd6004803603810190808035906020019092919050505061015a565b005b61010761019b565b6040518082815260200191505060405180910390f35b60606040805190810160405280600b81526020017f68656c6c6f2c776f726c64000000000000000000000000000000000000000000815250905090565b806000819055507ff48a1dc57eefa3de4406e65fc0fc377b25d100bd06429201a01a9e8e0e1d0773816040518082815260200191505060405180910390a150565b60007f29325e60ff39fad605f9bb4f2fd7cc0ee8e778b3f52cb561c2d8eebfcec4ca4b6000546040518082815260200191505060405180910390a16000549050905600a165627a7a7230582094b0faad0606a7146345687c0ce08f8b6cf0c0d299dab66a91eaea12c68ffa350029\"}\n",
      "0x0dE2540194E7673906DA694620d3bb046ea0dB64\n",
      "608060405260043610610057576000357c0100000000000000000000000000000000000000000000000000000000900463ffffffff168063209652551461005c57806355241077146100df578063c515205d146100ff575b600080fd5b61006461011d565b6040518080602001828103825283818151815260200191508051906020019080838360005b838110156100a4578082015181840152602081019050610089565b50505050905090810190601f1680156100d15780820380516001836020036101000a031916815260200191505b509250505060405180910390f35b6100fd6004803603810190808035906020019092919050505061015a565b005b61010761019b565b6040518082815260200191505060405180910390f35b60606040805190810160405280600b81526020017f68656c6c6f2c776f726c64000000000000000000000000000000000000000000815250905090565b806000819055507ff48a1dc57eefa3de4406e65fc0fc377b25d100bd06429201a01a9e8e0e1d0773816040518082815260200191505060405180910390a150565b60007f29325e60ff39fad605f9bb4f2fd7cc0ee8e778b3f52cb561c2d8eebfcec4ca4b6000546040518082815260200191505060405180910390a16000549050905600a165627a7a7230582094b0faad0606a7146345687c0ce08f8b6cf0c0d299dab66a91eaea12c68ffa350029\n"
     ]
    }
   ],
   "source": [
    "import web3\n",
    "from solc import compile_source, compile_files\n",
    "\n",
    "greeter = '''\n",
    "pragma solidity ^0.4.8;\n",
    "contract Greeter {\n",
    "    uint value;\n",
    "    event onSetValue(uint value);\n",
    "    event onGetValue(uint value);\n",
    "    function Greeter() {\n",
    "        value = 1;\n",
    "    }\n",
    "\n",
    "    function getValue2() payable public returns (uint){\n",
    "//        msg.sender.transfer(1000);\n",
    "        onGetValue(value);\n",
    "        return value;\n",
    "    }\n",
    "\n",
    "    function getValue() payable public returns (string){\n",
    "        return \"hello,world\";\n",
    "    }\n",
    "\n",
    "    function setValue(uint v) payable public {\n",
    "        value = v;\n",
    "        onSetValue(v);\n",
    "    }\n",
    "}\n",
    "'''\n",
    "\n",
    "def compile(contract_source_code, main_class):\n",
    "    compiled_sol = compile_source(contract_source_code) # Compiled source code\n",
    "    contract_interface = compiled_sol[main_class]\n",
    "\n",
    "    return contract_interface\n",
    "\n",
    "\n",
    "main_class = '<stdin>:Greeter'\n",
    "contract_source_code = greeter\n",
    "contract_interface = compile(contract_source_code, main_class)\n",
    "\n",
    "for abi in contract_interface['abi']:\n",
    "    print(abi)\n",
    "#print(contract_interface['bin'])\n",
    "\n",
    "import web3\n",
    "transaction = {\n",
    "     'from': '0x2c7536E3605D9C16a7a3D7b1898e529396a65c23',\n",
    "     'data': contract_interface['bin'],\n",
    "     'gas': 2000000,\n",
    "     'gasPrice': 23,\n",
    "     'nonce': 0,\n",
    "}\n",
    "\n",
    "key = '0x4c0883a69102937d6231471b5dbb6204fe5129617082792ae468d01a3f362318'\n",
    "signed = web3.eth.Account.signTransaction(transaction, key)\n",
    "#print(signed.rawTransaction)\n",
    "#for c in signed.rawTransaction:\n",
    "#    print('0x%02x,'%(c,), end='')\n",
    "\n",
    "name = 'helloworld11'\n",
    "try:\n",
    "    r = eosapi.push_action(name, 'exec', signed.rawTransaction, {name:'active'})\n",
    "    res = r['processed']['action_traces'][0]['console']\n",
    "    print(r['processed']['elapsed'])\n",
    "\n",
    "    import json\n",
    "    print(res)\n",
    "    res = json.loads(res)\n",
    "    new_address = web3.Web3.toChecksumAddress(res['newAddress'])\n",
    "    print(new_address)\n",
    "    print(res['output'])\n",
    "except Exception as e:\n",
    "    print(e)\n"
   ]
  },
  {
   "cell_type": "code",
   "execution_count": 203,
   "metadata": {},
   "outputs": [
    {
     "data": {
      "text/plain": [
       "'0x1A24b0dF35034406122919d4E4162d4EbEd020b5'"
      ]
     },
     "execution_count": 203,
     "metadata": {},
     "output_type": "execute_result"
    }
   ],
   "source": [
    "new_address"
   ]
  },
  {
   "cell_type": "code",
   "execution_count": 156,
   "metadata": {},
   "outputs": [
    {
     "data": {
      "text/plain": [
       "'0x36813E0c029E0AC04BA8Da31a8b81d546Db73481'"
      ]
     },
     "execution_count": 156,
     "metadata": {},
     "output_type": "execute_result"
    }
   ],
   "source": [
    "web3.Web3.toChecksumAddress('36813e0c029e0ac04ba8da31a8b81d546db73481')"
   ]
  },
  {
   "cell_type": "code",
   "execution_count": 255,
   "metadata": {},
   "outputs": [
    {
     "name": "stdout",
     "output_type": "stream",
     "text": [
      "0x55241077000000000000000000000000000000000000000000000000000000000001d0d8\n",
      "{\"newAddress\":\"0000000000000000000000000000000000000000\", \"output\":\"\"}\n",
      "758\n"
     ]
    }
   ],
   "source": [
    "import web3\n",
    "def pack_args():\n",
    "\n",
    "    fn_identifier = 'setValue'\n",
    "    fn_abi =  {'constant': False, 'inputs': [{'name': 'v', 'type': 'uint256'}], 'name': 'setValue', 'outputs': [], 'payable': False, 'stateMutability': 'nonpayable', 'type': 'function'}\n",
    "    args = (119000,)\n",
    "    kwargs = {}\n",
    "    \n",
    "    contract_abi =  [\n",
    "      {'constant': False, 'inputs': [],                                 'name': 'getValue', 'outputs': [{'name': '', 'type': 'uint256'}],      'payable': False, 'stateMutability': 'nonpayable', 'type': 'function'}, \n",
    "      {'constant': False, 'inputs': [{'name': 'v', 'type': 'uint256'}], 'name': 'setValue', 'outputs': [],                                     'payable': False, 'stateMutability': 'nonpayable', 'type': 'function'}, \n",
    "      {'constant': True, 'inputs': [{'name': '', 'type': 'address'}],   'name': 'mymap',    'outputs': [{'name': '',  'type': 'uint256'}],     'payable': False, 'stateMutability': 'view',       'type': 'function'}, \n",
    "      {'inputs': [], 'payable': False,  'stateMutability': 'nonpayable', 'type': 'constructor'}, \n",
    "      {'anonymous': False, 'inputs': [{'indexed': False, 'name': 's', 'type': 'string'}], 'name': 'log', 'type': 'event'}\n",
    "      ]\n",
    "    \n",
    "    data = web3._utils.contracts.encode_transaction_data(\n",
    "            web3,\n",
    "            fn_identifier,\n",
    "            contract_abi,\n",
    "            fn_abi,\n",
    "            args,\n",
    "            kwargs)\n",
    "    return data\n",
    "\n",
    "args = pack_args();\n",
    "print(args)\n",
    "transaction = {\n",
    "     'from': '0x2c7536E3605D9C16a7a3D7b1898e529396a65c23',\n",
    "     'to':new_address,\n",
    "     'data': args,\n",
    "     'gas': 2000000,\n",
    "     'gasPrice': 23,\n",
    "     'nonce': 0,\n",
    "}\n",
    "\n",
    "key = '0x4c0883a69102937d6231471b5dbb6204fe5129617082792ae468d01a3f362318'\n",
    "signed = web3.eth.Account.signTransaction(transaction, key)\n",
    "#print(signed.rawTransaction)\n",
    "#for c in signed.rawTransaction:\n",
    "#    print('0x%02x,'%(c,), end='')\n",
    "name = 'helloworld11'\n",
    "try:\n",
    "    r = eosapi.push_action(name, 'exec', signed.rawTransaction, {name:'active'})\n",
    "    print(r['processed']['action_traces'][0]['console'])\n",
    "    print(r['processed']['elapsed'])\n",
    "except Exception as e:\n",
    "    print(e)"
   ]
  },
  {
   "cell_type": "code",
   "execution_count": 205,
   "metadata": {},
   "outputs": [
    {
     "name": "stdout",
     "output_type": "stream",
     "text": [
      "0x20965255\n",
      "{\"newAddress\":\"0000000000000000000000000000000000000000\", \"output\":\"000000000000000000000000000000000000000000000000000000000001d0d8\"}\n",
      "762\n"
     ]
    }
   ],
   "source": [
    "import web3\n",
    "\n",
    "def pack_getValue():\n",
    "\n",
    "    fn_identifier = 'getValue'\n",
    "    fn_abi = {'constant': False, 'inputs': [],                                 'name': 'getValue', 'outputs': [{'name': '', 'type': 'uint256'}],      'payable': False, 'stateMutability': 'nonpayable', 'type': 'function'}\n",
    "    args = ()\n",
    "    kwargs = {}\n",
    "    \n",
    "    contract_abi =  [\n",
    "      {'constant': False, 'inputs': [],                                 'name': 'getValue', 'outputs': [{'name': '', 'type': 'uint256'}],      'payable': False, 'stateMutability': 'nonpayable', 'type': 'function'}, \n",
    "      {'constant': False, 'inputs': [{'name': 'v', 'type': 'uint256'}], 'name': 'setValue', 'outputs': [],                                     'payable': False, 'stateMutability': 'nonpayable', 'type': 'function'}, \n",
    "      {'constant': True, 'inputs': [{'name': '', 'type': 'address'}],   'name': 'mymap',    'outputs': [{'name': '',  'type': 'uint256'}],     'payable': False, 'stateMutability': 'view',       'type': 'function'}, \n",
    "      {'inputs': [], 'payable': False,  'stateMutability': 'nonpayable', 'type': 'constructor'}, \n",
    "      {'anonymous': False, 'inputs': [{'indexed': False, 'name': 's', 'type': 'string'}], 'name': 'log', 'type': 'event'}\n",
    "      ]\n",
    "    \n",
    "    data = web3._utils.contracts.encode_transaction_data(\n",
    "            web3,\n",
    "            fn_identifier,\n",
    "            contract_abi,\n",
    "            fn_abi,\n",
    "            args,\n",
    "            kwargs)\n",
    "    return data\n",
    "\n",
    "args = pack_getValue()\n",
    "print(args)\n",
    "transaction = {\n",
    "     'from': '0x2c7536E3605D9C16a7a3D7b1898e529396a65c23',\n",
    "     'to': new_address,\n",
    "     'data': args,\n",
    "     'gas': 2000000,\n",
    "     'gasPrice': 23,\n",
    "     'nonce': 0,\n",
    "}\n",
    "\n",
    "key = '0x4c0883a69102937d6231471b5dbb6204fe5129617082792ae468d01a3f362318'\n",
    "signed = web3.eth.Account.signTransaction(transaction, key)\n",
    "#print(signed.rawTransaction)\n",
    "#for c in signed.rawTransaction:\n",
    "#    print('0x%02x,'%(c,), end='')\n",
    "name = 'helloworld11'\n",
    "try:\n",
    "    args = signed.rawTransaction.hex()[2:]\n",
    "    r = eosapi.push_action(name, 'exec', signed.rawTransaction, {name:'active'})\n",
    "    print(r['processed']['action_traces'][0]['console'])\n",
    "    print(r['processed']['elapsed'])\n",
    "except Exception as e:\n",
    "    print('exception:', e)"
   ]
  },
  {
   "cell_type": "code",
   "execution_count": 155,
   "metadata": {},
   "outputs": [
    {
     "data": {
      "text/plain": [
       "'1d0d8'"
      ]
     },
     "execution_count": 155,
     "metadata": {},
     "output_type": "execute_result"
    }
   ],
   "source": [
    "'%x'%(119000,)"
   ]
  },
  {
   "cell_type": "code",
   "execution_count": 161,
   "metadata": {},
   "outputs": [
    {
     "data": {
      "text/plain": [
       "b')2^`\\xff9\\xfa\\xd6\\x05\\xf9\\xbbO/\\xd7\\xcc\\x0e\\xe8\\xe7x\\xb3\\xf5,\\xb5a\\xc2\\xd8\\xee\\xbf\\xce\\xc4\\xcaK'"
      ]
     },
     "execution_count": 161,
     "metadata": {},
     "output_type": "execute_result"
    }
   ],
   "source": [
    "bytes.fromhex('29325e60ff39fad605f9bb4f2fd7cc0ee8e778b3f52cb561c2d8eebfcec4ca4b')"
   ]
  },
  {
   "cell_type": "code",
   "execution_count": 230,
   "metadata": {},
   "outputs": [
    {
     "name": "stdout",
     "output_type": "stream",
     "text": [
      "0x20965255\n",
      "0000000000000000000000000000000000000000000000000000000000000020000000000000000000000000000000000000000000000000000000000000000b68656c6c6f2c776f726c64000000000000000000000000000000000000000000\n",
      "b'\\x00\\x00\\x00\\x00\\x00\\x00\\x00\\x00\\x00\\x00\\x00\\x00\\x00\\x00\\x00\\x00\\x00\\x00\\x00\\x00\\x00\\x00\\x00\\x00\\x00\\x00\\x00\\x00\\x00\\x00\\x00 '\n",
      "b'\\x00\\x00\\x00\\x00\\x00\\x00\\x00\\x00\\x00\\x00\\x00\\x00\\x00\\x00\\x00\\x00\\x00\\x00\\x00\\x00\\x00\\x00\\x00\\x00\\x00\\x00\\x00\\x00\\x00\\x00\\x00\\x0b'\n",
      "b'hello,world\\x00\\x00\\x00\\x00\\x00\\x00\\x00\\x00\\x00\\x00\\x00\\x00\\x00\\x00\\x00\\x00\\x00\\x00\\x00\\x00\\x00'\n"
     ]
    }
   ],
   "source": [
    "import web3\n",
    "\n",
    "def pack_getValue():\n",
    "\n",
    "    fn_identifier = 'getValue'\n",
    "    fn_abi = {'constant': False, 'inputs': [],                                 'name': 'getValue', 'outputs': [{'name': '', 'type': 'uint256'}],      'payable': False, 'stateMutability': 'nonpayable', 'type': 'function'}\n",
    "    args = ()\n",
    "    kwargs = {}\n",
    "    \n",
    "    contract_abi =  [\n",
    "      {'constant': False, 'inputs': [],                                 'name': 'getValue', 'outputs': [{'name': '', 'type': 'uint256'}],      'payable': False, 'stateMutability': 'nonpayable', 'type': 'function'}, \n",
    "      {'constant': False, 'inputs': [{'name': 'v', 'type': 'uint256'}], 'name': 'setValue', 'outputs': [],                                     'payable': False, 'stateMutability': 'nonpayable', 'type': 'function'}, \n",
    "      {'constant': True, 'inputs': [{'name': '', 'type': 'address'}],   'name': 'mymap',    'outputs': [{'name': '',  'type': 'uint256'}],     'payable': False, 'stateMutability': 'view',       'type': 'function'}, \n",
    "      {'inputs': [], 'payable': False,  'stateMutability': 'nonpayable', 'type': 'constructor'}, \n",
    "      {'anonymous': False, 'inputs': [{'indexed': False, 'name': 's', 'type': 'string'}], 'name': 'log', 'type': 'event'}\n",
    "      ]\n",
    "    \n",
    "    data = web3._utils.contracts.encode_transaction_data(\n",
    "            web3,\n",
    "            fn_identifier,\n",
    "            contract_abi,\n",
    "            fn_abi,\n",
    "            args,\n",
    "            kwargs)\n",
    "    return data\n",
    "\n",
    "args = pack_getValue()\n",
    "print(args)\n",
    "transaction = {\n",
    "     'from': '0x2c7536E3605D9C16a7a3D7b1898e529396a65c23',\n",
    "     'to': new_address,\n",
    "     'data': args,\n",
    "     'gas': 2000000,\n",
    "     'gasPrice': 23,\n",
    "     'nonce': 0,\n",
    "}\n",
    "\n",
    "key = '0x4c0883a69102937d6231471b5dbb6204fe5129617082792ae468d01a3f362318'\n",
    "signed = web3.eth.Account.signTransaction(transaction, key)\n",
    "#print(signed.rawTransaction)\n",
    "#for c in signed.rawTransaction:\n",
    "#    print('0x%02x,'%(c,), end='')\n",
    "name = 'helloworld11'\n",
    "try:\n",
    "    args = signed.rawTransaction.hex()[2:]\n",
    "    r = eosapi.call_contract(name, 'exec', args)\n",
    "    res = r['results']['output']\n",
    "    res = json.loads(res)\n",
    "    print(res['output'])\n",
    "    res = bytes.fromhex(res['output'])\n",
    "    print(res[0:32])\n",
    "    print(res[32:64])\n",
    "    print(res[64:])\n",
    "except Exception as e:\n",
    "    print('exception:', e)"
   ]
  },
  {
   "cell_type": "code",
   "execution_count": 212,
   "metadata": {},
   "outputs": [],
   "source": [
    "result = bytes.fromhex('0000000000000000000000000000000000000000000000000000000000000020000000000000000000000000000000000000000000000000000000000000000b68656c6c6f2c776f726c64000000000000000000000000000000000000000000')"
   ]
  },
  {
   "cell_type": "code",
   "execution_count": 213,
   "metadata": {},
   "outputs": [
    {
     "data": {
      "text/plain": [
       "b'\\x00\\x00\\x00\\x00\\x00\\x00\\x00\\x00\\x00\\x00\\x00\\x00\\x00\\x00\\x00\\x00\\x00\\x00\\x00\\x00\\x00\\x00\\x00\\x00\\x00\\x00\\x00\\x00\\x00\\x00\\x00 \\x00\\x00\\x00\\x00\\x00\\x00\\x00\\x00\\x00\\x00\\x00\\x00\\x00\\x00\\x00\\x00\\x00\\x00\\x00\\x00\\x00\\x00\\x00\\x00\\x00\\x00\\x00\\x00\\x00\\x00\\x00\\x0b'"
      ]
     },
     "execution_count": 213,
     "metadata": {},
     "output_type": "execute_result"
    }
   ],
   "source": [
    "result[:64]"
   ]
  },
  {
   "cell_type": "code",
   "execution_count": 215,
   "metadata": {},
   "outputs": [
    {
     "data": {
      "text/plain": [
       "b'hello,world\\x00\\x00\\x00\\x00\\x00\\x00\\x00\\x00\\x00\\x00\\x00\\x00\\x00\\x00\\x00\\x00\\x00\\x00\\x00\\x00\\x00'"
      ]
     },
     "execution_count": 215,
     "metadata": {},
     "output_type": "execute_result"
    }
   ],
   "source": [
    "result[64:128]"
   ]
  },
  {
   "cell_type": "code",
   "execution_count": 218,
   "metadata": {},
   "outputs": [
    {
     "data": {
      "text/plain": [
       "96"
      ]
     },
     "execution_count": 218,
     "metadata": {},
     "output_type": "execute_result"
    }
   ],
   "source": [
    "len(result)"
   ]
  },
  {
   "cell_type": "code",
   "execution_count": 181,
   "metadata": {},
   "outputs": [
    {
     "data": {
      "text/plain": [
       "7684014468695212560"
      ]
     },
     "execution_count": 181,
     "metadata": {},
     "output_type": "execute_result"
    }
   ],
   "source": [
    "eosapi.s2n('helloworld11')"
   ]
  },
  {
   "cell_type": "code",
   "execution_count": 122,
   "metadata": {},
   "outputs": [
    {
     "name": "stdout",
     "output_type": "stream",
     "text": [
      "\n",
      "\n",
      "\n",
      "done!\n"
     ]
    }
   ],
   "source": [
    "code = r'''\n",
    "#include <eosio/print.hpp>\n",
    "#include <eosio/name.hpp>\n",
    "#include <eosio/action.hpp>\n",
    "#include <eosio/multi_index.hpp>\n",
    "#include <eosio/singleton.hpp>\n",
    "#include <eosio/fixed_bytes.hpp>\n",
    "#include \"eth_account.hpp\"\n",
    "\n",
    "using namespace eosio;\n",
    "using namespace std;\n",
    "\n",
    "__attribute__((eosio_wasm_import))\n",
    "extern \"C\" int evm_execute(const unsigned char* code, size_t size);\n",
    "\n",
    "template<typename T>\n",
    "T unpack_args() {\n",
    "    size_t raw_args_size = action_data_size();\n",
    "    check(raw_args_size > 0, \"bad args\");\n",
    "    vector<char> raw_args(raw_args_size);\n",
    "    read_action_data(raw_args.data(), raw_args_size);\n",
    "    T rec = eosio::unpack<T>(raw_args);\n",
    "    return rec;\n",
    "}\n",
    "   \n",
    "extern \"C\" {\n",
    "    void apply( uint64_t receiver, uint64_t code, uint64_t action ) {\n",
    "        eosio::print(\"hello,worlddddddd\\n\");\n",
    "        return;\n",
    "        if (action == \"active\"_n.value) {\n",
    "        } else if (action == \"exec\"_n.value) {\n",
    "        }\n",
    "    }\n",
    "}\n",
    "#include \"eth_account.cpp\"\n",
    " \n",
    "'''\n",
    "\n",
    "abi = '''\n",
    "{\n",
    "   \"version\": \"eosio::abi/1.0\",\n",
    "   \"types\": [],\n",
    "  \"structs\": [{\n",
    "      \"name\": \"active\",\n",
    "      \"base\": \"\",\n",
    "      \"fields\": [\n",
    "        {\"name\":\"address\", \"type\":\"bytes\"},\n",
    "       ]\n",
    "    }\n",
    "  ],\n",
    "  \"actions\": [{\n",
    "      \"name\": \"active\",\n",
    "      \"type\": \"active\",\n",
    "      \"ricardian_contract\": \"\"\n",
    "    },{\n",
    "      \"name\": \"exec\",\n",
    "      \"type\": \"bytes\",\n",
    "      \"ricardian_contract\": \"\"\n",
    "    }\n",
    "  ],\n",
    "  \"tables\": [\n",
    "  ]\n",
    "}\n",
    "'''\n",
    "\n",
    "publish_cpp_contract('helloworld11', code, abi, includes=['contracts'])\n",
    "print('done!')"
   ]
  },
  {
   "cell_type": "code",
   "execution_count": 123,
   "metadata": {},
   "outputs": [
    {
     "data": {
      "text/plain": [
       "{\n",
       "    \"results\": {\n",
       "        \"output\": \"hello,worlddddddd\\n\"\n",
       "    }\n",
       "}"
      ]
     },
     "execution_count": 123,
     "metadata": {},
     "output_type": "execute_result"
    }
   ],
   "source": [
    "eosapi.call_contract(name, 'exec', '112233')"
   ]
  },
  {
   "cell_type": "code",
   "execution_count": null,
   "metadata": {},
   "outputs": [],
   "source": []
  }
 ],
 "metadata": {
  "kernelspec": {
   "display_name": "Python 3",
   "language": "python",
   "name": "python3"
  },
  "language_info": {
   "codemirror_mode": {
    "name": "ipython",
    "version": 3
   },
   "file_extension": ".py",
   "mimetype": "text/x-python",
   "name": "python",
   "nbconvert_exporter": "python",
   "pygments_lexer": "ipython3",
   "version": "3.7.3"
  }
 },
 "nbformat": 4,
 "nbformat_minor": 2
}
